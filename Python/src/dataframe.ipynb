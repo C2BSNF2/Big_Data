{
 "cells": [
  {
   "cell_type": "markdown",
   "id": "c4a2eca8",
   "metadata": {},
   "source": []
  },
  {
   "cell_type": "code",
   "execution_count": 1,
   "id": "3c62de99",
   "metadata": {},
   "outputs": [
    {
     "name": "stdout",
     "output_type": "stream",
     "text": [
      "Hello\n"
     ]
    }
   ],
   "source": [
    "print(\"Hello\")"
   ]
  },
  {
   "cell_type": "markdown",
   "id": "8d924050",
   "metadata": {},
   "source": [
    "Title Here"
   ]
  },
  {
   "cell_type": "code",
   "execution_count": 2,
   "id": "898ef9b0",
   "metadata": {},
   "outputs": [],
   "source": [
    "#This is a comment"
   ]
  },
  {
   "cell_type": "code",
   "execution_count": 4,
   "id": "ea702240",
   "metadata": {},
   "outputs": [],
   "source": [
    "import pandas as pd"
   ]
  },
  {
   "cell_type": "code",
   "execution_count": 7,
   "id": "7dea4c01",
   "metadata": {},
   "outputs": [
    {
     "name": "stdout",
     "output_type": "stream",
     "text": [
      "Hello world\n"
     ]
    }
   ],
   "source": [
    "print(\"Hello world\")"
   ]
  },
  {
   "cell_type": "markdown",
   "id": "fff71a9e",
   "metadata": {},
   "source": [
    "<h1>To Do 5/12</h2>\n",
    "<p style=\"font-size:20px;\">\n",
    "Exercise 1-20:\n",
    "Load a CSV file into a pandas DataFrame.\n",
    "\n",
    "Check the first 5 rows of the DataFrame.\n",
    "\n",
    "Get the shape of the DataFrame (rows, columns).\n",
    "\n",
    "Get summary statistics (mean, median, mode, std) of numerical columns.\n",
    "\n",
    "Get the data types of each column.\n",
    "\n",
    "Check for missing values in each column.\n",
    "\n",
    "Rename a column in the DataFrame.\n",
    "\n",
    "Filter the DataFrame to get rows where a column value is greater than a certain number.\n",
    "\n",
    "Select specific columns from the DataFrame.\n",
    "\n",
    "Drop a column from the DataFrame.\n",
    "\n",
    "Apply a transformation to a column (e.g., multiply each value by 2).\n",
    "\n",
    "Add a new column based on an operation on existing columns.\n",
    "\n",
    "Group the data by a categorical column and get the mean of each group.\n",
    "\n",
    "Sort the DataFrame based on a specific column.\n",
    "\n",
    "Merge two DataFrames on a common column.\n",
    "\n",
    "Join two DataFrames using an index.\n",
    "\n",
    "Apply a function to each element in a column using .apply().\n",
    "\n",
    "Create a new DataFrame by filtering rows based on multiple conditions.\n",
    "\n",
    "Convert a column from string to a numeric type.\n",
    "\n",
    "Save the modified DataFrame to a new CSV file.\n",
    "</p>"
   ]
  },
  {
   "cell_type": "code",
   "execution_count": 91,
   "id": "284231c6",
   "metadata": {},
   "outputs": [],
   "source": [
    "locations = pd.read_csv('../../BATCH/Files/locations.csv')\n",
    "departments = pd.read_csv('../../BATCH/Files/departments.csv')\n",
    "employees = pd.read_csv('../../BATCH/Files/employees.csv')\n",
    "projects = pd.read_csv('../../BATCH/Files/projects.csv')\n",
    "salaries = pd.read_csv(\"../../BATCH/Files/salaries.csv\")"
   ]
  },
  {
   "cell_type": "code",
   "execution_count": 92,
   "id": "926412fa",
   "metadata": {},
   "outputs": [
    {
     "data": {
      "text/html": [
       "<div>\n",
       "<style scoped>\n",
       "    .dataframe tbody tr th:only-of-type {\n",
       "        vertical-align: middle;\n",
       "    }\n",
       "\n",
       "    .dataframe tbody tr th {\n",
       "        vertical-align: top;\n",
       "    }\n",
       "\n",
       "    .dataframe thead th {\n",
       "        text-align: right;\n",
       "    }\n",
       "</style>\n",
       "<table border=\"1\" class=\"dataframe\">\n",
       "  <thead>\n",
       "    <tr style=\"text-align: right;\">\n",
       "      <th></th>\n",
       "      <th>EmployeeID</th>\n",
       "      <th>Salary</th>\n",
       "      <th>Bonus</th>\n",
       "    </tr>\n",
       "  </thead>\n",
       "  <tbody>\n",
       "    <tr>\n",
       "      <th>0</th>\n",
       "      <td>1</td>\n",
       "      <td>55000</td>\n",
       "      <td>5000</td>\n",
       "    </tr>\n",
       "    <tr>\n",
       "      <th>1</th>\n",
       "      <td>2</td>\n",
       "      <td>46000</td>\n",
       "      <td>3000</td>\n",
       "    </tr>\n",
       "    <tr>\n",
       "      <th>2</th>\n",
       "      <td>3</td>\n",
       "      <td>60000</td>\n",
       "      <td>7000</td>\n",
       "    </tr>\n",
       "    <tr>\n",
       "      <th>3</th>\n",
       "      <td>4</td>\n",
       "      <td>75000</td>\n",
       "      <td>8000</td>\n",
       "    </tr>\n",
       "    <tr>\n",
       "      <th>4</th>\n",
       "      <td>5</td>\n",
       "      <td>49000</td>\n",
       "      <td>2000</td>\n",
       "    </tr>\n",
       "  </tbody>\n",
       "</table>\n",
       "</div>"
      ],
      "text/plain": [
       "   EmployeeID  Salary  Bonus\n",
       "0           1   55000   5000\n",
       "1           2   46000   3000\n",
       "2           3   60000   7000\n",
       "3           4   75000   8000\n",
       "4           5   49000   2000"
      ]
     },
     "execution_count": 92,
     "metadata": {},
     "output_type": "execute_result"
    }
   ],
   "source": [
    "#Check the first 5 rows of the DataFrame\n",
    "salaries.head(5)"
   ]
  },
  {
   "cell_type": "code",
   "execution_count": 74,
   "id": "568d9f30",
   "metadata": {},
   "outputs": [
    {
     "data": {
      "text/plain": [
       "(10, 5)"
      ]
     },
     "execution_count": 74,
     "metadata": {},
     "output_type": "execute_result"
    }
   ],
   "source": [
    "#Get the shape of the DataFrame (rows, columns)\n",
    "salaries.shape"
   ]
  },
  {
   "cell_type": "code",
   "execution_count": 49,
   "id": "03fe3616",
   "metadata": {},
   "outputs": [
    {
     "name": "stdout",
     "output_type": "stream",
     "text": [
      "<class 'pandas.core.frame.DataFrame'>\n",
      "RangeIndex: 10 entries, 0 to 9\n",
      "Data columns (total 3 columns):\n",
      " #   Column       Non-Null Count  Dtype \n",
      "---  ------       --------------  ----- \n",
      " 0   ProjectID    10 non-null     int64 \n",
      " 1   EmployeeID   10 non-null     int64 \n",
      " 2   ProjectName  10 non-null     object\n",
      "dtypes: int64(2), object(1)\n",
      "memory usage: 372.0+ bytes\n"
     ]
    }
   ],
   "source": [
    "projects.info()"
   ]
  },
  {
   "cell_type": "code",
   "execution_count": 17,
   "id": "b4e33db6",
   "metadata": {},
   "outputs": [
    {
     "data": {
      "text/html": [
       "<div>\n",
       "<style scoped>\n",
       "    .dataframe tbody tr th:only-of-type {\n",
       "        vertical-align: middle;\n",
       "    }\n",
       "\n",
       "    .dataframe tbody tr th {\n",
       "        vertical-align: top;\n",
       "    }\n",
       "\n",
       "    .dataframe thead th {\n",
       "        text-align: right;\n",
       "    }\n",
       "</style>\n",
       "<table border=\"1\" class=\"dataframe\">\n",
       "  <thead>\n",
       "    <tr style=\"text-align: right;\">\n",
       "      <th></th>\n",
       "      <th>EmployeeID</th>\n",
       "      <th>Salary</th>\n",
       "      <th>Bonus</th>\n",
       "    </tr>\n",
       "  </thead>\n",
       "  <tbody>\n",
       "    <tr>\n",
       "      <th>count</th>\n",
       "      <td>10.00000</td>\n",
       "      <td>10.000000</td>\n",
       "      <td>10.000000</td>\n",
       "    </tr>\n",
       "    <tr>\n",
       "      <th>mean</th>\n",
       "      <td>5.50000</td>\n",
       "      <td>61900.000000</td>\n",
       "      <td>5850.000000</td>\n",
       "    </tr>\n",
       "    <tr>\n",
       "      <th>std</th>\n",
       "      <td>3.02765</td>\n",
       "      <td>16044.729145</td>\n",
       "      <td>3448.429594</td>\n",
       "    </tr>\n",
       "    <tr>\n",
       "      <th>min</th>\n",
       "      <td>1.00000</td>\n",
       "      <td>43000.000000</td>\n",
       "      <td>1500.000000</td>\n",
       "    </tr>\n",
       "    <tr>\n",
       "      <th>25%</th>\n",
       "      <td>3.25000</td>\n",
       "      <td>49750.000000</td>\n",
       "      <td>3250.000000</td>\n",
       "    </tr>\n",
       "    <tr>\n",
       "      <th>50%</th>\n",
       "      <td>5.50000</td>\n",
       "      <td>57500.000000</td>\n",
       "      <td>5500.000000</td>\n",
       "    </tr>\n",
       "    <tr>\n",
       "      <th>75%</th>\n",
       "      <td>7.75000</td>\n",
       "      <td>73000.000000</td>\n",
       "      <td>7750.000000</td>\n",
       "    </tr>\n",
       "    <tr>\n",
       "      <th>max</th>\n",
       "      <td>10.00000</td>\n",
       "      <td>90000.000000</td>\n",
       "      <td>12000.000000</td>\n",
       "    </tr>\n",
       "  </tbody>\n",
       "</table>\n",
       "</div>"
      ],
      "text/plain": [
       "       EmployeeID        Salary         Bonus\n",
       "count    10.00000     10.000000     10.000000\n",
       "mean      5.50000  61900.000000   5850.000000\n",
       "std       3.02765  16044.729145   3448.429594\n",
       "min       1.00000  43000.000000   1500.000000\n",
       "25%       3.25000  49750.000000   3250.000000\n",
       "50%       5.50000  57500.000000   5500.000000\n",
       "75%       7.75000  73000.000000   7750.000000\n",
       "max      10.00000  90000.000000  12000.000000"
      ]
     },
     "execution_count": 17,
     "metadata": {},
     "output_type": "execute_result"
    }
   ],
   "source": [
    "#Get summary statistics (mean, median, mode, std) of numerical columns.\n",
    "salaries.describe()"
   ]
  },
  {
   "cell_type": "code",
   "execution_count": 22,
   "id": "9572dcbb",
   "metadata": {},
   "outputs": [
    {
     "data": {
      "text/plain": [
       "EmployeeID        2\n",
       "Salary        46000\n",
       "Bonus          2000\n",
       "Name: 1, dtype: int64"
      ]
     },
     "execution_count": 22,
     "metadata": {},
     "output_type": "execute_result"
    }
   ],
   "source": [
    "mode_values = salaries.mode().iloc[1]\n",
    "mode_values"
   ]
  },
  {
   "cell_type": "code",
   "execution_count": 50,
   "id": "bedf6511",
   "metadata": {},
   "outputs": [
    {
     "name": "stdout",
     "output_type": "stream",
     "text": [
      "<class 'pandas.core.frame.DataFrame'>\n",
      "RangeIndex: 10 entries, 0 to 9\n",
      "Data columns (total 3 columns):\n",
      " #   Column       Non-Null Count  Dtype \n",
      "---  ------       --------------  ----- \n",
      " 0   ProjectID    10 non-null     int64 \n",
      " 1   EmployeeID   10 non-null     int64 \n",
      " 2   ProjectName  10 non-null     object\n",
      "dtypes: int64(2), object(1)\n",
      "memory usage: 372.0+ bytes\n"
     ]
    }
   ],
   "source": [
    "#Get the data types of each column\n",
    "projects.info()"
   ]
  },
  {
   "cell_type": "code",
   "execution_count": 98,
   "id": "eb1e43a4",
   "metadata": {},
   "outputs": [
    {
     "data": {
      "text/plain": [
       "EmployeeID    0\n",
       "Name          0\n",
       "Department    0\n",
       "Salary        0\n",
       "dtype: int64"
      ]
     },
     "execution_count": 98,
     "metadata": {},
     "output_type": "execute_result"
    }
   ],
   "source": [
    "#Check for missing values in each column\n",
    "missing_counts = employees.isna().sum()\n",
    "missing_counts"
   ]
  },
  {
   "cell_type": "code",
   "execution_count": 93,
   "id": "cedae208",
   "metadata": {},
   "outputs": [
    {
     "data": {
      "text/html": [
       "<div>\n",
       "<style scoped>\n",
       "    .dataframe tbody tr th:only-of-type {\n",
       "        vertical-align: middle;\n",
       "    }\n",
       "\n",
       "    .dataframe tbody tr th {\n",
       "        vertical-align: top;\n",
       "    }\n",
       "\n",
       "    .dataframe thead th {\n",
       "        text-align: right;\n",
       "    }\n",
       "</style>\n",
       "<table border=\"1\" class=\"dataframe\">\n",
       "  <thead>\n",
       "    <tr style=\"text-align: right;\">\n",
       "      <th></th>\n",
       "      <th>ProjectID</th>\n",
       "      <th>EmployeeID</th>\n",
       "      <th>ProjectDone</th>\n",
       "    </tr>\n",
       "  </thead>\n",
       "  <tbody>\n",
       "    <tr>\n",
       "      <th>0</th>\n",
       "      <td>101</td>\n",
       "      <td>1</td>\n",
       "      <td>Project Alpha</td>\n",
       "    </tr>\n",
       "    <tr>\n",
       "      <th>1</th>\n",
       "      <td>102</td>\n",
       "      <td>2</td>\n",
       "      <td>Project Beta</td>\n",
       "    </tr>\n",
       "    <tr>\n",
       "      <th>2</th>\n",
       "      <td>103</td>\n",
       "      <td>3</td>\n",
       "      <td>Project Gamma</td>\n",
       "    </tr>\n",
       "    <tr>\n",
       "      <th>3</th>\n",
       "      <td>104</td>\n",
       "      <td>4</td>\n",
       "      <td>Project Delta</td>\n",
       "    </tr>\n",
       "    <tr>\n",
       "      <th>4</th>\n",
       "      <td>105</td>\n",
       "      <td>5</td>\n",
       "      <td>Project Epsilon</td>\n",
       "    </tr>\n",
       "  </tbody>\n",
       "</table>\n",
       "</div>"
      ],
      "text/plain": [
       "   ProjectID  EmployeeID      ProjectDone\n",
       "0        101           1    Project Alpha\n",
       "1        102           2     Project Beta\n",
       "2        103           3    Project Gamma\n",
       "3        104           4    Project Delta\n",
       "4        105           5  Project Epsilon"
      ]
     },
     "execution_count": 93,
     "metadata": {},
     "output_type": "execute_result"
    }
   ],
   "source": [
    "#Rename a column in the DataFrame\n",
    "projects = projects.rename(columns={'ProjectName': 'ProjectDone'})\n",
    "projects.head()\n"
   ]
  },
  {
   "cell_type": "code",
   "execution_count": 62,
   "id": "3b443708",
   "metadata": {},
   "outputs": [
    {
     "data": {
      "text/html": [
       "<div>\n",
       "<style scoped>\n",
       "    .dataframe tbody tr th:only-of-type {\n",
       "        vertical-align: middle;\n",
       "    }\n",
       "\n",
       "    .dataframe tbody tr th {\n",
       "        vertical-align: top;\n",
       "    }\n",
       "\n",
       "    .dataframe thead th {\n",
       "        text-align: right;\n",
       "    }\n",
       "</style>\n",
       "<table border=\"1\" class=\"dataframe\">\n",
       "  <thead>\n",
       "    <tr style=\"text-align: right;\">\n",
       "      <th></th>\n",
       "      <th>EmployeeID</th>\n",
       "      <th>Name</th>\n",
       "      <th>Department</th>\n",
       "      <th>Pay</th>\n",
       "    </tr>\n",
       "  </thead>\n",
       "  <tbody>\n",
       "    <tr>\n",
       "      <th>3</th>\n",
       "      <td>4</td>\n",
       "      <td>Linda</td>\n",
       "      <td>HR</td>\n",
       "      <td>75000</td>\n",
       "    </tr>\n",
       "    <tr>\n",
       "      <th>6</th>\n",
       "      <td>7</td>\n",
       "      <td>Michael</td>\n",
       "      <td>HR</td>\n",
       "      <td>82000</td>\n",
       "    </tr>\n",
       "    <tr>\n",
       "      <th>7</th>\n",
       "      <td>8</td>\n",
       "      <td>Elizabeth</td>\n",
       "      <td>Engineering</td>\n",
       "      <td>67000</td>\n",
       "    </tr>\n",
       "    <tr>\n",
       "      <th>9</th>\n",
       "      <td>10</td>\n",
       "      <td>Susan</td>\n",
       "      <td>HR</td>\n",
       "      <td>90000</td>\n",
       "    </tr>\n",
       "  </tbody>\n",
       "</table>\n",
       "</div>"
      ],
      "text/plain": [
       "   EmployeeID       Name   Department    Pay\n",
       "3           4      Linda           HR  75000\n",
       "6           7    Michael           HR  82000\n",
       "7           8  Elizabeth  Engineering  67000\n",
       "9          10      Susan           HR  90000"
      ]
     },
     "execution_count": 62,
     "metadata": {},
     "output_type": "execute_result"
    }
   ],
   "source": [
    "#Filter the DataFrame to get rows where a column value is greater than a certain number\n",
    "filtered_df = employees[employees[\"Pay\"] > 60000]\n",
    "filtered_df"
   ]
  },
  {
   "cell_type": "code",
   "execution_count": 65,
   "id": "a60c7842",
   "metadata": {},
   "outputs": [
    {
     "data": {
      "text/html": [
       "<div>\n",
       "<style scoped>\n",
       "    .dataframe tbody tr th:only-of-type {\n",
       "        vertical-align: middle;\n",
       "    }\n",
       "\n",
       "    .dataframe tbody tr th {\n",
       "        vertical-align: top;\n",
       "    }\n",
       "\n",
       "    .dataframe thead th {\n",
       "        text-align: right;\n",
       "    }\n",
       "</style>\n",
       "<table border=\"1\" class=\"dataframe\">\n",
       "  <thead>\n",
       "    <tr style=\"text-align: right;\">\n",
       "      <th></th>\n",
       "      <th>Name</th>\n",
       "      <th>EmployeeID</th>\n",
       "    </tr>\n",
       "  </thead>\n",
       "  <tbody>\n",
       "    <tr>\n",
       "      <th>0</th>\n",
       "      <td>John</td>\n",
       "      <td>1</td>\n",
       "    </tr>\n",
       "    <tr>\n",
       "      <th>1</th>\n",
       "      <td>Anna</td>\n",
       "      <td>2</td>\n",
       "    </tr>\n",
       "    <tr>\n",
       "      <th>2</th>\n",
       "      <td>Peter</td>\n",
       "      <td>3</td>\n",
       "    </tr>\n",
       "    <tr>\n",
       "      <th>3</th>\n",
       "      <td>Linda</td>\n",
       "      <td>4</td>\n",
       "    </tr>\n",
       "    <tr>\n",
       "      <th>4</th>\n",
       "      <td>James</td>\n",
       "      <td>5</td>\n",
       "    </tr>\n",
       "  </tbody>\n",
       "</table>\n",
       "</div>"
      ],
      "text/plain": [
       "    Name  EmployeeID\n",
       "0   John           1\n",
       "1   Anna           2\n",
       "2  Peter           3\n",
       "3  Linda           4\n",
       "4  James           5"
      ]
     },
     "execution_count": 65,
     "metadata": {},
     "output_type": "execute_result"
    }
   ],
   "source": [
    "#Select specific columns from the DataFrame\n",
    "df1 = employees[[\"Name\", \"EmployeeID\"]]\n",
    "df1.head()"
   ]
  },
  {
   "cell_type": "code",
   "execution_count": 94,
   "id": "61dbfd79",
   "metadata": {},
   "outputs": [
    {
     "name": "stdout",
     "output_type": "stream",
     "text": [
      "   ProjectID  EmployeeID\n",
      "0        101           1\n",
      "1        102           2\n",
      "2        103           3\n",
      "3        104           4\n",
      "4        105           5\n",
      "5        106           6\n",
      "6        107           7\n",
      "7        108           8\n",
      "8        109           9\n",
      "9        110          10\n"
     ]
    }
   ],
   "source": [
    "#Drop a column from the DataFrame\n",
    "print(projects.drop('ProjectDone', axis=1))\n"
   ]
  },
  {
   "cell_type": "code",
   "execution_count": 95,
   "id": "92717c0c",
   "metadata": {},
   "outputs": [
    {
     "data": {
      "text/html": [
       "<div>\n",
       "<style scoped>\n",
       "    .dataframe tbody tr th:only-of-type {\n",
       "        vertical-align: middle;\n",
       "    }\n",
       "\n",
       "    .dataframe tbody tr th {\n",
       "        vertical-align: top;\n",
       "    }\n",
       "\n",
       "    .dataframe thead th {\n",
       "        text-align: right;\n",
       "    }\n",
       "</style>\n",
       "<table border=\"1\" class=\"dataframe\">\n",
       "  <thead>\n",
       "    <tr style=\"text-align: right;\">\n",
       "      <th></th>\n",
       "      <th>EmployeeID</th>\n",
       "      <th>Salary</th>\n",
       "      <th>Bonus</th>\n",
       "    </tr>\n",
       "  </thead>\n",
       "  <tbody>\n",
       "    <tr>\n",
       "      <th>0</th>\n",
       "      <td>1</td>\n",
       "      <td>55000</td>\n",
       "      <td>10000</td>\n",
       "    </tr>\n",
       "    <tr>\n",
       "      <th>1</th>\n",
       "      <td>2</td>\n",
       "      <td>46000</td>\n",
       "      <td>6000</td>\n",
       "    </tr>\n",
       "    <tr>\n",
       "      <th>2</th>\n",
       "      <td>3</td>\n",
       "      <td>60000</td>\n",
       "      <td>14000</td>\n",
       "    </tr>\n",
       "    <tr>\n",
       "      <th>3</th>\n",
       "      <td>4</td>\n",
       "      <td>75000</td>\n",
       "      <td>16000</td>\n",
       "    </tr>\n",
       "    <tr>\n",
       "      <th>4</th>\n",
       "      <td>5</td>\n",
       "      <td>49000</td>\n",
       "      <td>4000</td>\n",
       "    </tr>\n",
       "  </tbody>\n",
       "</table>\n",
       "</div>"
      ],
      "text/plain": [
       "   EmployeeID  Salary  Bonus\n",
       "0           1   55000  10000\n",
       "1           2   46000   6000\n",
       "2           3   60000  14000\n",
       "3           4   75000  16000\n",
       "4           5   49000   4000"
      ]
     },
     "execution_count": 95,
     "metadata": {},
     "output_type": "execute_result"
    }
   ],
   "source": [
    "#Apply a transformation to a column (e.g., multiply each value by 2)\n",
    "salaries[\"Bonus\"]= salaries['Bonus'] * 2\n",
    "salaries.head()\n"
   ]
  },
  {
   "cell_type": "code",
   "execution_count": 96,
   "id": "fb19b356",
   "metadata": {},
   "outputs": [
    {
     "data": {
      "text/html": [
       "<div>\n",
       "<style scoped>\n",
       "    .dataframe tbody tr th:only-of-type {\n",
       "        vertical-align: middle;\n",
       "    }\n",
       "\n",
       "    .dataframe tbody tr th {\n",
       "        vertical-align: top;\n",
       "    }\n",
       "\n",
       "    .dataframe thead th {\n",
       "        text-align: right;\n",
       "    }\n",
       "</style>\n",
       "<table border=\"1\" class=\"dataframe\">\n",
       "  <thead>\n",
       "    <tr style=\"text-align: right;\">\n",
       "      <th></th>\n",
       "      <th>EmployeeID</th>\n",
       "      <th>Salary</th>\n",
       "      <th>Bonus</th>\n",
       "      <th>Multiplied</th>\n",
       "    </tr>\n",
       "  </thead>\n",
       "  <tbody>\n",
       "    <tr>\n",
       "      <th>0</th>\n",
       "      <td>1</td>\n",
       "      <td>55000</td>\n",
       "      <td>10000</td>\n",
       "      <td>110000</td>\n",
       "    </tr>\n",
       "    <tr>\n",
       "      <th>1</th>\n",
       "      <td>2</td>\n",
       "      <td>46000</td>\n",
       "      <td>6000</td>\n",
       "      <td>92000</td>\n",
       "    </tr>\n",
       "    <tr>\n",
       "      <th>2</th>\n",
       "      <td>3</td>\n",
       "      <td>60000</td>\n",
       "      <td>14000</td>\n",
       "      <td>120000</td>\n",
       "    </tr>\n",
       "    <tr>\n",
       "      <th>3</th>\n",
       "      <td>4</td>\n",
       "      <td>75000</td>\n",
       "      <td>16000</td>\n",
       "      <td>150000</td>\n",
       "    </tr>\n",
       "    <tr>\n",
       "      <th>4</th>\n",
       "      <td>5</td>\n",
       "      <td>49000</td>\n",
       "      <td>4000</td>\n",
       "      <td>98000</td>\n",
       "    </tr>\n",
       "  </tbody>\n",
       "</table>\n",
       "</div>"
      ],
      "text/plain": [
       "   EmployeeID  Salary  Bonus  Multiplied\n",
       "0           1   55000  10000      110000\n",
       "1           2   46000   6000       92000\n",
       "2           3   60000  14000      120000\n",
       "3           4   75000  16000      150000\n",
       "4           5   49000   4000       98000"
      ]
     },
     "execution_count": 96,
     "metadata": {},
     "output_type": "execute_result"
    }
   ],
   "source": [
    "#Add a new column based on an operation on existing columns\n",
    "salaries[\"Multiplied\"]= salaries['Salary'] * 2\n",
    "salaries.head()"
   ]
  },
  {
   "cell_type": "code",
   "execution_count": 89,
   "id": "f5e47438",
   "metadata": {},
   "outputs": [
    {
     "name": "stdout",
     "output_type": "stream",
     "text": [
      "Department\n",
      "Engineering    58500.000000\n",
      "HR             82333.333333\n",
      "Marketing      46000.000000\n",
      "Name: Pay, dtype: float64\n"
     ]
    }
   ],
   "source": [
    "#Group the data by a categorical column and get the mean of each group\n",
    "print(employees.groupby('Department')[\"Pay\"].mean())"
   ]
  },
  {
   "cell_type": "code",
   "execution_count": 67,
   "id": "abde4711",
   "metadata": {},
   "outputs": [
    {
     "data": {
      "text/plain": [
       "8     1500\n",
       "4     2000\n",
       "1     3000\n",
       "5     4000\n",
       "0     5000\n",
       "7     6000\n",
       "2     7000\n",
       "3     8000\n",
       "6    10000\n",
       "9    12000\n",
       "Name: Bonus, dtype: int64"
      ]
     },
     "execution_count": 67,
     "metadata": {},
     "output_type": "execute_result"
    }
   ],
   "source": [
    "#Sort the DataFrame based on a specific column\n",
    "trip = salaries[\"Bonus\"].sort_values()\n",
    "trip"
   ]
  },
  {
   "cell_type": "code",
   "execution_count": 97,
   "id": "db7cacd6",
   "metadata": {},
   "outputs": [
    {
     "data": {
      "text/html": [
       "<div>\n",
       "<style scoped>\n",
       "    .dataframe tbody tr th:only-of-type {\n",
       "        vertical-align: middle;\n",
       "    }\n",
       "\n",
       "    .dataframe tbody tr th {\n",
       "        vertical-align: top;\n",
       "    }\n",
       "\n",
       "    .dataframe thead th {\n",
       "        text-align: right;\n",
       "    }\n",
       "</style>\n",
       "<table border=\"1\" class=\"dataframe\">\n",
       "  <thead>\n",
       "    <tr style=\"text-align: right;\">\n",
       "      <th></th>\n",
       "      <th>EmployeeID</th>\n",
       "      <th>Salary</th>\n",
       "      <th>Bonus</th>\n",
       "      <th>Multiplied</th>\n",
       "      <th>ProjectID</th>\n",
       "      <th>ProjectDone</th>\n",
       "    </tr>\n",
       "  </thead>\n",
       "  <tbody>\n",
       "    <tr>\n",
       "      <th>0</th>\n",
       "      <td>1</td>\n",
       "      <td>55000</td>\n",
       "      <td>10000</td>\n",
       "      <td>110000</td>\n",
       "      <td>101</td>\n",
       "      <td>Project Alpha</td>\n",
       "    </tr>\n",
       "    <tr>\n",
       "      <th>1</th>\n",
       "      <td>2</td>\n",
       "      <td>46000</td>\n",
       "      <td>6000</td>\n",
       "      <td>92000</td>\n",
       "      <td>102</td>\n",
       "      <td>Project Beta</td>\n",
       "    </tr>\n",
       "    <tr>\n",
       "      <th>2</th>\n",
       "      <td>3</td>\n",
       "      <td>60000</td>\n",
       "      <td>14000</td>\n",
       "      <td>120000</td>\n",
       "      <td>103</td>\n",
       "      <td>Project Gamma</td>\n",
       "    </tr>\n",
       "    <tr>\n",
       "      <th>3</th>\n",
       "      <td>4</td>\n",
       "      <td>75000</td>\n",
       "      <td>16000</td>\n",
       "      <td>150000</td>\n",
       "      <td>104</td>\n",
       "      <td>Project Delta</td>\n",
       "    </tr>\n",
       "    <tr>\n",
       "      <th>4</th>\n",
       "      <td>5</td>\n",
       "      <td>49000</td>\n",
       "      <td>4000</td>\n",
       "      <td>98000</td>\n",
       "      <td>105</td>\n",
       "      <td>Project Epsilon</td>\n",
       "    </tr>\n",
       "  </tbody>\n",
       "</table>\n",
       "</div>"
      ],
      "text/plain": [
       "   EmployeeID  Salary  Bonus  Multiplied  ProjectID      ProjectDone\n",
       "0           1   55000  10000      110000        101    Project Alpha\n",
       "1           2   46000   6000       92000        102     Project Beta\n",
       "2           3   60000  14000      120000        103    Project Gamma\n",
       "3           4   75000  16000      150000        104    Project Delta\n",
       "4           5   49000   4000       98000        105  Project Epsilon"
      ]
     },
     "execution_count": 97,
     "metadata": {},
     "output_type": "execute_result"
    }
   ],
   "source": [
    "#Merge two DataFrames on a common column\n",
    "df3 = pd.merge(salaries, projects, on='EmployeeID')\n",
    "df3.head()"
   ]
  },
  {
   "cell_type": "code",
   "execution_count": 69,
   "id": "dbac4399",
   "metadata": {},
   "outputs": [
    {
     "data": {
      "text/html": [
       "<div>\n",
       "<style scoped>\n",
       "    .dataframe tbody tr th:only-of-type {\n",
       "        vertical-align: middle;\n",
       "    }\n",
       "\n",
       "    .dataframe tbody tr th {\n",
       "        vertical-align: top;\n",
       "    }\n",
       "\n",
       "    .dataframe thead th {\n",
       "        text-align: right;\n",
       "    }\n",
       "</style>\n",
       "<table border=\"1\" class=\"dataframe\">\n",
       "  <thead>\n",
       "    <tr style=\"text-align: right;\">\n",
       "      <th></th>\n",
       "      <th>EmployeeID</th>\n",
       "      <th>Salary</th>\n",
       "      <th>Bonus</th>\n",
       "      <th>Multiplied</th>\n",
       "      <th>Total</th>\n",
       "    </tr>\n",
       "  </thead>\n",
       "  <tbody>\n",
       "    <tr>\n",
       "      <th>0</th>\n",
       "      <td>1</td>\n",
       "      <td>55000</td>\n",
       "      <td>5000</td>\n",
       "      <td>110000</td>\n",
       "      <td>60000</td>\n",
       "    </tr>\n",
       "    <tr>\n",
       "      <th>1</th>\n",
       "      <td>2</td>\n",
       "      <td>46000</td>\n",
       "      <td>3000</td>\n",
       "      <td>92000</td>\n",
       "      <td>49000</td>\n",
       "    </tr>\n",
       "    <tr>\n",
       "      <th>2</th>\n",
       "      <td>3</td>\n",
       "      <td>60000</td>\n",
       "      <td>7000</td>\n",
       "      <td>120000</td>\n",
       "      <td>67000</td>\n",
       "    </tr>\n",
       "    <tr>\n",
       "      <th>3</th>\n",
       "      <td>4</td>\n",
       "      <td>75000</td>\n",
       "      <td>8000</td>\n",
       "      <td>150000</td>\n",
       "      <td>83000</td>\n",
       "    </tr>\n",
       "    <tr>\n",
       "      <th>4</th>\n",
       "      <td>5</td>\n",
       "      <td>49000</td>\n",
       "      <td>2000</td>\n",
       "      <td>98000</td>\n",
       "      <td>51000</td>\n",
       "    </tr>\n",
       "  </tbody>\n",
       "</table>\n",
       "</div>"
      ],
      "text/plain": [
       "   EmployeeID  Salary  Bonus  Multiplied  Total\n",
       "0           1   55000   5000      110000  60000\n",
       "1           2   46000   3000       92000  49000\n",
       "2           3   60000   7000      120000  67000\n",
       "3           4   75000   8000      150000  83000\n",
       "4           5   49000   2000       98000  51000"
      ]
     },
     "execution_count": 69,
     "metadata": {},
     "output_type": "execute_result"
    }
   ],
   "source": [
    "salaries[\"Total\"] = salaries['Salary'] + salaries['Bonus']\n",
    "salaries.head()"
   ]
  },
  {
   "cell_type": "code",
   "execution_count": null,
   "id": "cd7d2c5e",
   "metadata": {},
   "outputs": [
    {
     "name": "stdout",
     "output_type": "stream",
     "text": [
      "            Salary_x  Bonus  Multiplied       Name   Department  Salary_y\n",
      "EmployeeID                                                               \n",
      "1              55000  10000      110000       John  Engineering     55000\n",
      "2              46000   6000       92000       Anna    Marketing     46000\n",
      "3              60000  14000      120000      Peter  Engineering     60000\n",
      "4              75000  16000      150000      Linda           HR     75000\n",
      "5              49000   4000       98000      James    Marketing     49000\n",
      "6              52000   8000      104000   Patricia  Engineering     52000\n",
      "7              82000  20000      164000    Michael           HR     82000\n",
      "8              67000  12000      134000  Elizabeth  Engineering     67000\n",
      "9              43000   3000       86000      David    Marketing     43000\n",
      "10             90000  24000      180000      Susan           HR     90000\n"
     ]
    }
   ],
   "source": [
    "#Join two DataFrames using an index\n",
    "print(pd.merge(salaries, employees, left_index=True, right_index=True))"
   ]
  },
  {
   "cell_type": "code",
   "execution_count": null,
   "id": "c451b962",
   "metadata": {},
   "outputs": [],
   "source": [
    "#Apply a function to each element in a column using .apply()\n",
    "locations[\"City\"] = locations[\"Location\"].apply(lambda x: x.replace(\"New York\", \"NY\").replace(\"San Francisco\", \"SF\").replace(\"Los Angeles\", \"LA\"))\n",
    "locations.head()"
   ]
  },
  {
   "cell_type": "code",
   "execution_count": 99,
   "id": "e11e801b",
   "metadata": {},
   "outputs": [
    {
     "data": {
      "text/html": [
       "<div>\n",
       "<style scoped>\n",
       "    .dataframe tbody tr th:only-of-type {\n",
       "        vertical-align: middle;\n",
       "    }\n",
       "\n",
       "    .dataframe tbody tr th {\n",
       "        vertical-align: top;\n",
       "    }\n",
       "\n",
       "    .dataframe thead th {\n",
       "        text-align: right;\n",
       "    }\n",
       "</style>\n",
       "<table border=\"1\" class=\"dataframe\">\n",
       "  <thead>\n",
       "    <tr style=\"text-align: right;\">\n",
       "      <th></th>\n",
       "      <th>EmployeeID</th>\n",
       "      <th>Name</th>\n",
       "      <th>Department</th>\n",
       "      <th>Salary</th>\n",
       "    </tr>\n",
       "  </thead>\n",
       "  <tbody>\n",
       "    <tr>\n",
       "      <th>0</th>\n",
       "      <td>1</td>\n",
       "      <td>John</td>\n",
       "      <td>Engineering</td>\n",
       "      <td>55000</td>\n",
       "    </tr>\n",
       "    <tr>\n",
       "      <th>2</th>\n",
       "      <td>3</td>\n",
       "      <td>Peter</td>\n",
       "      <td>Engineering</td>\n",
       "      <td>60000</td>\n",
       "    </tr>\n",
       "    <tr>\n",
       "      <th>7</th>\n",
       "      <td>8</td>\n",
       "      <td>Elizabeth</td>\n",
       "      <td>Engineering</td>\n",
       "      <td>67000</td>\n",
       "    </tr>\n",
       "  </tbody>\n",
       "</table>\n",
       "</div>"
      ],
      "text/plain": [
       "   EmployeeID       Name   Department  Salary\n",
       "0           1       John  Engineering   55000\n",
       "2           3      Peter  Engineering   60000\n",
       "7           8  Elizabeth  Engineering   67000"
      ]
     },
     "execution_count": 99,
     "metadata": {},
     "output_type": "execute_result"
    }
   ],
   "source": [
    "#Create a new DataFrame by filtering rows based on multiple conditions\n",
    "filtered_df = employees[(employees['Salary'] > 54000) & (employees['Department'] == 'Engineering')]\n",
    "filtered_df"
   ]
  },
  {
   "cell_type": "code",
   "execution_count": 102,
   "id": "3f95f9cd",
   "metadata": {},
   "outputs": [],
   "source": [
    "#Convert a column from string to a numeric type\n",
    "#df['column_name'] = pd.to_numeric(df['column_name'])\n",
    "#df['column_name'] = df['column_name'].astype(int)\n"
   ]
  },
  {
   "cell_type": "code",
   "execution_count": 100,
   "id": "eb48ec7e",
   "metadata": {},
   "outputs": [],
   "source": [
    "#Save the modified DataFrame to a new CSV file\n",
    "filtered_df.to_csv('../../BATCH/Files/filteredFile.csv', index=False)"
   ]
  },
  {
   "cell_type": "code",
   "execution_count": 1,
   "id": "863eaa79",
   "metadata": {},
   "outputs": [],
   "source": [
    "#com"
   ]
  },
  {
   "cell_type": "code",
   "execution_count": null,
   "id": "6bbd65ad",
   "metadata": {},
   "outputs": [],
   "source": []
  }
 ],
 "metadata": {
  "kernelspec": {
   "display_name": "Python 3",
   "language": "python",
   "name": "python3"
  },
  "language_info": {
   "codemirror_mode": {
    "name": "ipython",
    "version": 3
   },
   "file_extension": ".py",
   "mimetype": "text/x-python",
   "name": "python",
   "nbconvert_exporter": "python",
   "pygments_lexer": "ipython3",
   "version": "3.12.8"
  }
 },
 "nbformat": 4,
 "nbformat_minor": 5
}
